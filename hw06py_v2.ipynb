{
 "cells": [
  {
   "cell_type": "code",
   "execution_count": 21,
   "metadata": {},
   "outputs": [],
   "source": [
    "from kafka import KafkaProducer\n",
    "import pandas as pd\n",
    "import json\n",
    "from time import time\n",
    "from kafka import KafkaConsumer\n",
    "from pyflink.datastream import StreamExecutionEnvironment\n",
    "from pyflink.datastream.connectors import FlinkKafkaConsumer\n",
    "from pyflink.common.serialization import SimpleStringSchema\n",
    "from pyflink.table import EnvironmentSettings, DataTypes, TableEnvironment, StreamTableEnvironment\n",
    "from pyflink.common.watermark_strategy import WatermarkStrategy\n",
    "from pyflink.common.time import Duration\n",
    "from pyflink.common import Types"
   ]
  },
  {
   "cell_type": "code",
   "execution_count": 2,
   "metadata": {},
   "outputs": [
    {
     "data": {
      "text/html": [
       "<div>\n",
       "<style scoped>\n",
       "    .dataframe tbody tr th:only-of-type {\n",
       "        vertical-align: middle;\n",
       "    }\n",
       "\n",
       "    .dataframe tbody tr th {\n",
       "        vertical-align: top;\n",
       "    }\n",
       "\n",
       "    .dataframe thead th {\n",
       "        text-align: right;\n",
       "    }\n",
       "</style>\n",
       "<table border=\"1\" class=\"dataframe\">\n",
       "  <thead>\n",
       "    <tr style=\"text-align: right;\">\n",
       "      <th></th>\n",
       "      <th>lpep_pickup_datetime</th>\n",
       "      <th>lpep_dropoff_datetime</th>\n",
       "      <th>PULocationID</th>\n",
       "      <th>DOLocationID</th>\n",
       "      <th>passenger_count</th>\n",
       "      <th>trip_distance</th>\n",
       "      <th>tip_amount</th>\n",
       "    </tr>\n",
       "  </thead>\n",
       "  <tbody>\n",
       "    <tr>\n",
       "      <th>0</th>\n",
       "      <td>2019-10-01 00:26:02</td>\n",
       "      <td>2019-10-01 00:39:58</td>\n",
       "      <td>112</td>\n",
       "      <td>196</td>\n",
       "      <td>1.0</td>\n",
       "      <td>5.88</td>\n",
       "      <td>0.00</td>\n",
       "    </tr>\n",
       "    <tr>\n",
       "      <th>1</th>\n",
       "      <td>2019-10-01 00:18:11</td>\n",
       "      <td>2019-10-01 00:22:38</td>\n",
       "      <td>43</td>\n",
       "      <td>263</td>\n",
       "      <td>1.0</td>\n",
       "      <td>0.80</td>\n",
       "      <td>0.00</td>\n",
       "    </tr>\n",
       "    <tr>\n",
       "      <th>2</th>\n",
       "      <td>2019-10-01 00:09:31</td>\n",
       "      <td>2019-10-01 00:24:47</td>\n",
       "      <td>255</td>\n",
       "      <td>228</td>\n",
       "      <td>2.0</td>\n",
       "      <td>7.50</td>\n",
       "      <td>0.00</td>\n",
       "    </tr>\n",
       "    <tr>\n",
       "      <th>3</th>\n",
       "      <td>2019-10-01 00:37:40</td>\n",
       "      <td>2019-10-01 00:41:49</td>\n",
       "      <td>181</td>\n",
       "      <td>181</td>\n",
       "      <td>1.0</td>\n",
       "      <td>0.90</td>\n",
       "      <td>0.00</td>\n",
       "    </tr>\n",
       "    <tr>\n",
       "      <th>4</th>\n",
       "      <td>2019-10-01 00:08:13</td>\n",
       "      <td>2019-10-01 00:17:56</td>\n",
       "      <td>97</td>\n",
       "      <td>188</td>\n",
       "      <td>1.0</td>\n",
       "      <td>2.52</td>\n",
       "      <td>2.26</td>\n",
       "    </tr>\n",
       "    <tr>\n",
       "      <th>...</th>\n",
       "      <td>...</td>\n",
       "      <td>...</td>\n",
       "      <td>...</td>\n",
       "      <td>...</td>\n",
       "      <td>...</td>\n",
       "      <td>...</td>\n",
       "      <td>...</td>\n",
       "    </tr>\n",
       "    <tr>\n",
       "      <th>476381</th>\n",
       "      <td>2019-10-31 23:30:00</td>\n",
       "      <td>2019-11-01 00:00:00</td>\n",
       "      <td>65</td>\n",
       "      <td>102</td>\n",
       "      <td>NaN</td>\n",
       "      <td>7.04</td>\n",
       "      <td>0.00</td>\n",
       "    </tr>\n",
       "    <tr>\n",
       "      <th>476382</th>\n",
       "      <td>2019-10-31 23:03:00</td>\n",
       "      <td>2019-10-31 23:24:00</td>\n",
       "      <td>129</td>\n",
       "      <td>136</td>\n",
       "      <td>NaN</td>\n",
       "      <td>0.00</td>\n",
       "      <td>0.00</td>\n",
       "    </tr>\n",
       "    <tr>\n",
       "      <th>476383</th>\n",
       "      <td>2019-10-31 23:02:00</td>\n",
       "      <td>2019-10-31 23:23:00</td>\n",
       "      <td>61</td>\n",
       "      <td>222</td>\n",
       "      <td>NaN</td>\n",
       "      <td>3.90</td>\n",
       "      <td>0.00</td>\n",
       "    </tr>\n",
       "    <tr>\n",
       "      <th>476384</th>\n",
       "      <td>2019-10-31 23:42:00</td>\n",
       "      <td>2019-10-31 23:56:00</td>\n",
       "      <td>76</td>\n",
       "      <td>39</td>\n",
       "      <td>NaN</td>\n",
       "      <td>3.08</td>\n",
       "      <td>0.00</td>\n",
       "    </tr>\n",
       "    <tr>\n",
       "      <th>476385</th>\n",
       "      <td>2019-10-31 23:23:00</td>\n",
       "      <td>2019-10-31 23:56:00</td>\n",
       "      <td>56</td>\n",
       "      <td>215</td>\n",
       "      <td>NaN</td>\n",
       "      <td>6.84</td>\n",
       "      <td>0.00</td>\n",
       "    </tr>\n",
       "  </tbody>\n",
       "</table>\n",
       "<p>476386 rows × 7 columns</p>\n",
       "</div>"
      ],
      "text/plain": [
       "       lpep_pickup_datetime lpep_dropoff_datetime  PULocationID  DOLocationID  \\\n",
       "0       2019-10-01 00:26:02   2019-10-01 00:39:58           112           196   \n",
       "1       2019-10-01 00:18:11   2019-10-01 00:22:38            43           263   \n",
       "2       2019-10-01 00:09:31   2019-10-01 00:24:47           255           228   \n",
       "3       2019-10-01 00:37:40   2019-10-01 00:41:49           181           181   \n",
       "4       2019-10-01 00:08:13   2019-10-01 00:17:56            97           188   \n",
       "...                     ...                   ...           ...           ...   \n",
       "476381  2019-10-31 23:30:00   2019-11-01 00:00:00            65           102   \n",
       "476382  2019-10-31 23:03:00   2019-10-31 23:24:00           129           136   \n",
       "476383  2019-10-31 23:02:00   2019-10-31 23:23:00            61           222   \n",
       "476384  2019-10-31 23:42:00   2019-10-31 23:56:00            76            39   \n",
       "476385  2019-10-31 23:23:00   2019-10-31 23:56:00            56           215   \n",
       "\n",
       "        passenger_count  trip_distance  tip_amount  \n",
       "0                   1.0           5.88        0.00  \n",
       "1                   1.0           0.80        0.00  \n",
       "2                   2.0           7.50        0.00  \n",
       "3                   1.0           0.90        0.00  \n",
       "4                   1.0           2.52        2.26  \n",
       "...                 ...            ...         ...  \n",
       "476381              NaN           7.04        0.00  \n",
       "476382              NaN           0.00        0.00  \n",
       "476383              NaN           3.90        0.00  \n",
       "476384              NaN           3.08        0.00  \n",
       "476385              NaN           6.84        0.00  \n",
       "\n",
       "[476386 rows x 7 columns]"
      ]
     },
     "execution_count": 2,
     "metadata": {},
     "output_type": "execute_result"
    }
   ],
   "source": [
    "df = pd.read_csv(\"green_tripdata_2019-10.csv\",usecols=[\n",
    "    'lpep_pickup_datetime',\n",
    "    'lpep_dropoff_datetime',\n",
    "    'PULocationID',\n",
    "    'DOLocationID',\n",
    "    'passenger_count',\n",
    "    'trip_distance',\n",
    "    'tip_amount']\n",
    ")\n",
    "df"
   ]
  },
  {
   "cell_type": "code",
   "execution_count": null,
   "metadata": {},
   "outputs": [],
   "source": [
    "message = df.to_dict(orient='records')\n",
    "message"
   ]
  },
  {
   "cell_type": "code",
   "execution_count": 3,
   "metadata": {},
   "outputs": [],
   "source": [
    "json_data = df.to_json(orient='records', lines=True)"
   ]
  },
  {
   "cell_type": "code",
   "execution_count": 4,
   "metadata": {},
   "outputs": [],
   "source": [
    "topic_name = 'green-trips'"
   ]
  },
  {
   "cell_type": "code",
   "execution_count": 5,
   "metadata": {},
   "outputs": [],
   "source": [
    "producer = KafkaProducer(bootstrap_servers='localhost:9092',value_serializer=lambda x: x.encode('utf-8'))"
   ]
  },
  {
   "cell_type": "code",
   "execution_count": 6,
   "metadata": {},
   "outputs": [],
   "source": [
    "for row in json_data.splitlines():\n",
    "    producer.send(topic_name, value=row)\n",
    "\n",
    "producer.flush()"
   ]
  },
  {
   "cell_type": "code",
   "execution_count": 7,
   "metadata": {},
   "outputs": [],
   "source": [
    "env = StreamExecutionEnvironment.get_execution_environment()"
   ]
  },
  {
   "cell_type": "code",
   "execution_count": 11,
   "metadata": {},
   "outputs": [
    {
     "data": {
      "text/plain": [
       "<pyflink.datastream.stream_execution_environment.StreamExecutionEnvironment at 0x23f430f9570>"
      ]
     },
     "execution_count": 11,
     "metadata": {},
     "output_type": "execute_result"
    }
   ],
   "source": [
    "env.enable_checkpointing(10 * 1000)\n",
    "env.set_parallelism(3)"
   ]
  },
  {
   "cell_type": "code",
   "execution_count": 13,
   "metadata": {},
   "outputs": [],
   "source": [
    "# Set up the table environment\n",
    "settings = EnvironmentSettings.new_instance().in_streaming_mode().build()\n",
    "t_env = StreamTableEnvironment.create(env, environment_settings=settings)"
   ]
  },
  {
   "cell_type": "code",
   "execution_count": null,
   "metadata": {},
   "outputs": [],
   "source": [
    "# kafka_consumer = FlinkKafkaConsumer(\n",
    "#     topics= topic_name,\n",
    "#     deserialization_schema=SimpleStringSchema(),\n",
    "#     properties={'bootstrap.servers': 'localhost:9092'}\n",
    "# )\n",
    "kafka_consumer = KafkaConsumer(\n",
    "    topic_name,\n",
    "    bootstrap_servers='localhost:9092',\n",
    "    value_deserializer=lambda x: json.loads(x.decode('utf-8'))\n",
    ")"
   ]
  },
  {
   "cell_type": "code",
   "execution_count": 8,
   "metadata": {},
   "outputs": [],
   "source": [
    "data = {\n",
    "    \"lpep_pickup_datetime\": [\"2025-03-15 12:30:00\", \"2025-03-15 13:00:00\"],\n",
    "    \"lpep_dropoff_datetime\": [\"2025-03-15 12:50:00\", \"2025-03-15 13:20:00\"],\n",
    "    \"PULocationID\": [1, 2],\n",
    "    \"DOLocationID\": [10, 20],\n",
    "    \"passenger_count\": [1.0, 2.0],\n",
    "    \"trip_distance\": [3.5, 5.2],\n",
    "    \"tip_amount\": [2.5, 3.0],\n",
    "}\n",
    "\n",
    "df_prueba = pd.DataFrame(data)\n",
    "json_data_prueba = df_prueba.to_json(orient='records', lines=True)"
   ]
  },
  {
   "cell_type": "code",
   "execution_count": 9,
   "metadata": {},
   "outputs": [],
   "source": [
    "for row in json_data_prueba.splitlines():\n",
    "    producer.send('prueba', value=row)\n",
    "\n",
    "producer.flush()"
   ]
  },
  {
   "cell_type": "code",
   "execution_count": 10,
   "metadata": {},
   "outputs": [],
   "source": [
    "consumer = KafkaConsumer(\n",
    "    'prueba',\n",
    "    bootstrap_servers='localhost:9092',\n",
    "    # bootstrap_servers='redpanda-1:29092',\n",
    "    value_deserializer=lambda x: json.loads(x.decode('utf-8')),\n",
    "    auto_offset_reset='earliest',  # Start consuming from the earliest messages\n",
    "    enable_auto_commit=True,       # Auto-commit offsets to avoid re-consuming messages\n",
    "    group_id='test-group'          # Specify a consumer group\n",
    ")"
   ]
  },
  {
   "cell_type": "code",
   "execution_count": 14,
   "metadata": {},
   "outputs": [
    {
     "data": {
      "text/plain": [
       "<pyflink.table.table_result.TableResult at 0x23f42f81e40>"
      ]
     },
     "execution_count": 14,
     "metadata": {},
     "output_type": "execute_result"
    }
   ],
   "source": [
    "table_name = \"prueba\"\n",
    "source_ddl = f\"\"\"\n",
    "    CREATE TABLE {table_name} (\n",
    "        lpep_pickup_datetime TIMESTAMP(3),\n",
    "        lpep_dropoff_datetime TIMESTAMP(3),\n",
    "        PULocationID INT,\n",
    "        DOLocationID INT,\n",
    "        passenger_count DOUBLE,\n",
    "        trip_distance DOUBLE,\n",
    "        tip_amount DOUBLE\n",
    "    ) WITH (\n",
    "        'connector' = 'kafka',\n",
    "        'properties.bootstrap.servers' = 'redpanda-1:29092',\n",
    "        'topic' = 'prueba',\n",
    "        'scan.startup.mode' = 'earliest-offset',\n",
    "        'properties.auto.offset.reset' = 'earliest',\n",
    "        'format' = 'json'\n",
    "    );\n",
    "    \"\"\"\n",
    "t_env.execute_sql(source_ddl)"
   ]
  },
  {
   "cell_type": "code",
   "execution_count": null,
   "metadata": {},
   "outputs": [],
   "source": [
    "# Example SQL query to select data from the table\n",
    "# query = f\"\"\"\n",
    "#     SELECT lpep_pickup_datetime, lpep_dropoff_datetime, PULocationID, DOLocationID,\n",
    "#            passenger_count, trip_distance, tip_amount\n",
    "#     FROM {table_name}\n",
    "# \"\"\"\n",
    "query = f\"\"\"\n",
    "    SELECT 1000 \n",
    "\"\"\"\n",
    "# Execute the query\n",
    "result_table = t_env.sql_query(query)\n",
    "result_stream = t_env.to_append_stream(result_table, Types.ROW([Types.INT()]))\n",
    "result_stream.print()\n",
    "env.execute(\"Read from Kafka Table\")\n"
   ]
  },
  {
   "cell_type": "code",
   "execution_count": null,
   "metadata": {},
   "outputs": [],
   "source": [
    "consumer = KafkaConsumer(\n",
    "    'prueba',\n",
    "    bootstrap_servers='localhost:9092',  # Adjust for your setup\n",
    "    auto_offset_reset='earliest',       # Start from the beginning\n",
    "    enable_auto_commit=True,\n",
    "    group_id='test-group'               # Set consumer group\n",
    ")\n",
    "\n",
    "print(\"Waiting for messages...\")\n",
    "for message in consumer:\n",
    "    print(f\"Received: {message.value}\")\n",
    "    break  # Exit after receiving the first message"
   ]
  },
  {
   "cell_type": "code",
   "execution_count": null,
   "metadata": {},
   "outputs": [],
   "source": [
    "message3 = consumer.poll(timeout_ms=5000)\n",
    "if not message3:\n",
    "    print(\"No messages received\")\n",
    "else:\n",
    "    for partition, records in message3.items():\n",
    "        for record in records:\n",
    "            print(\"Received message:\", record.value)"
   ]
  },
  {
   "cell_type": "code",
   "execution_count": null,
   "metadata": {},
   "outputs": [],
   "source": [
    "message3"
   ]
  },
  {
   "cell_type": "code",
   "execution_count": null,
   "metadata": {},
   "outputs": [],
   "source": [
    "records = []\n",
    "for mensaje in consumer:\n",
    "    print('a')\n",
    "    records.append(mensaje.value)\n",
    "    print('b')\n",
    "    if len(records) >= 2:  # Adjust the limit for more/less messages\n",
    "        break"
   ]
  },
  {
   "cell_type": "code",
   "execution_count": null,
   "metadata": {},
   "outputs": [],
   "source": [
    "# Convert the list of records into a pandas DataFrame\n",
    "df_result = pd.DataFrame(records)\n",
    "df_result"
   ]
  }
 ],
 "metadata": {
  "kernelspec": {
   "display_name": "Python 3",
   "language": "python",
   "name": "python3"
  },
  "language_info": {
   "codemirror_mode": {
    "name": "ipython",
    "version": 3
   },
   "file_extension": ".py",
   "mimetype": "text/x-python",
   "name": "python",
   "nbconvert_exporter": "python",
   "pygments_lexer": "ipython3",
   "version": "3.10.6"
  }
 },
 "nbformat": 4,
 "nbformat_minor": 2
}
